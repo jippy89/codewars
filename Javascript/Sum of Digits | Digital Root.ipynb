{
 "cells": [
  {
   "cell_type": "markdown",
   "metadata": {},
   "source": [
    "# Sum of Digits / Digital Root\n",
    "\n",
    "In this kata, you must create a digital root function.\n",
    "\n",
    "A digital root is the recursive sum of all the digits in a number. Given n, take the sum of the digits of n. If that value has more than one digit, continue reducing in this way until a single-digit number is produced. This is only applicable to the natural numbers.\n",
    "\n",
    "Here's how it works:\n",
    "\n",
    "```javascript\n",
    "digital_root(16)\n",
    "=> 1 + 6\n",
    "=> 7\n",
    "\n",
    "digital_root(942)\n",
    "=> 9 + 4 + 2\n",
    "=> 15 ...\n",
    "=> 1 + 5\n",
    "=> 6\n",
    "\n",
    "digital_root(132189)\n",
    "=> 1 + 3 + 2 + 1 + 8 + 9\n",
    "=> 24 ...\n",
    "=> 2 + 4\n",
    "=> 6\n",
    "\n",
    "digital_root(493193)\n",
    "=> 4 + 9 + 3 + 1 + 9 + 3\n",
    "=> 29 ...\n",
    "=> 2 + 9\n",
    "=> 11 ...\n",
    "=> 1 + 1\n",
    "=> 2\n",
    "```"
   ]
  },
  {
   "cell_type": "markdown",
   "metadata": {},
   "source": [
    "# Answer"
   ]
  },
  {
   "cell_type": "code",
   "execution_count": 1,
   "metadata": {},
   "outputs": [
    {
     "data": {
      "application/javascript": [
       "// %%javascript is a function that allows JN to use Javascript,only exclusive to Jupyter Notebook\n",
       "// Real answer that you can copy-paste to any javascript playground\n",
       "const digital_root = (num) => {\n",
       "  const stringNum = num.toString().split(\"\")\n",
       "  let result = stringNum.reduce((acc=0, currentNum) => +acc + +currentNum)\n",
       "  return result\n",
       "}\n",
       "\n",
       "digital_root(123)\n"
      ],
      "text/plain": [
       "<IPython.core.display.Javascript object>"
      ]
     },
     "metadata": {},
     "output_type": "display_data"
    }
   ],
   "source": [
    "%%javascript \n",
    "// %%javascript is a function that allows JN to use Javascript,only exclusive to Jupyter Notebook\n",
    "// Real answer that you can copy-paste to any javascript playground\n",
    "const digital_root = (num) => {\n",
    "  const stringNum = num.toString().split(\"\")\n",
    "  let result = stringNum.reduce((acc=0, currentNum) => +acc + +currentNum)\n",
    "  return result\n",
    "}\n",
    "\n",
    "digital_root(123)"
   ]
  },
  {
   "cell_type": "code",
   "execution_count": 2,
   "metadata": {},
   "outputs": [
    {
     "data": {
      "application/javascript": [
       "// Answer using Jupyter Notebook functionalities, you can only copy-paste this on another JN\n",
       "// For explanation https://stackoverflow.com/questions/28080079/can-i-create-an-ipython-notebook-using-javascript-as-the-language-in-the-cells\n",
       "window.digital_root = (num) => {\n",
       "  const stringNum = num.toString().split(\"\")\n",
       "  let result = stringNum.reduce((acc=0, currentNum) => +acc + +currentNum)\n",
       "  return result\n",
       "}\n",
       "\n",
       "element.append(window.digital_root(123))\n"
      ],
      "text/plain": [
       "<IPython.core.display.Javascript object>"
      ]
     },
     "metadata": {},
     "output_type": "display_data"
    }
   ],
   "source": [
    "%%javascript\n",
    "// Answer using Jupyter Notebook functionalities, you can only copy-paste this on another JN\n",
    "// For explanation, you can go to\n",
    "// https://stackoverflow.com/questions/28080079/can-i-create-an-ipython-notebook-using-javascript-as-the-language-in-the-cells\n",
    "window.digital_root = (num) => {\n",
    "  const stringNum = num.toString().split(\"\")\n",
    "  let result = stringNum.reduce((acc=0, currentNum) => +acc + +currentNum)\n",
    "  return result\n",
    "}\n",
    "\n",
    "element.append(window.digital_root(123))"
   ]
  },
  {
   "cell_type": "code",
   "execution_count": 3,
   "metadata": {},
   "outputs": [
    {
     "data": {
      "application/javascript": [
       "\n",
       "element.append(window.digital_root(3312312))\n"
      ],
      "text/plain": [
       "<IPython.core.display.Javascript object>"
      ]
     },
     "metadata": {},
     "output_type": "display_data"
    }
   ],
   "source": [
    "%%javascript\n",
    "\n",
    "element.append(window.digital_root(3312312))"
   ]
  },
  {
   "cell_type": "code",
   "execution_count": null,
   "metadata": {},
   "outputs": [],
   "source": []
  }
 ],
 "metadata": {
  "kernelspec": {
   "display_name": "Python 3",
   "language": "python",
   "name": "python3"
  },
  "language_info": {
   "codemirror_mode": {
    "name": "ipython",
    "version": 3
   },
   "file_extension": ".py",
   "mimetype": "text/x-python",
   "name": "python",
   "nbconvert_exporter": "python",
   "pygments_lexer": "ipython3",
   "version": "3.7.3"
  }
 },
 "nbformat": 4,
 "nbformat_minor": 2
}
