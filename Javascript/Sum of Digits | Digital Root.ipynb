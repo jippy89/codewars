{
 "cells": [
  {
   "cell_type": "markdown",
   "metadata": {},
   "source": [
    "# Sum of Digits / Digital Root\n",
    "\n",
    "In this kata, you must create a digital root function.\n",
    "\n",
    "A digital root is the recursive sum of all the digits in a number. Given n, take the sum of the digits of n. If that value has more than one digit, continue reducing in this way until a single-digit number is produced. This is only applicable to the natural numbers.\n",
    "\n",
    "Here's how it works:\n",
    "\n",
    "```javascript\n",
    "digital_root(16)\n",
    "=> 1 + 6\n",
    "=> 7\n",
    "\n",
    "digital_root(942)\n",
    "=> 9 + 4 + 2\n",
    "=> 15 ...\n",
    "=> 1 + 5\n",
    "=> 6\n",
    "\n",
    "digital_root(132189)\n",
    "=> 1 + 3 + 2 + 1 + 8 + 9\n",
    "=> 24 ...\n",
    "=> 2 + 4\n",
    "=> 6\n",
    "\n",
    "digital_root(493193)\n",
    "=> 4 + 9 + 3 + 1 + 9 + 3\n",
    "=> 29 ...\n",
    "=> 2 + 9\n",
    "=> 11 ...\n",
    "=> 1 + 1\n",
    "=> 2\n",
    "```"
   ]
  },
  {
   "cell_type": "markdown",
   "metadata": {},
   "source": [
    "# Answer"
   ]
  },
  {
   "cell_type": "code",
   "execution_count": 1,
   "metadata": {},
   "outputs": [],
   "source": [
    "function digital_root(n) {\n",
    "  const stringNum = n.toString().split(\"\")\n",
    "  let result = stringNum.reduce((acc=0, currentNum) => +acc + +currentNum)\n",
    "  const regex = /^\\d$/ \n",
    "  return result\n",
    "  if (regex.test(result)) return parseInt(result)\n",
    "  else return digital_root(result)\n",
    "}"
   ]
  },
  {
   "cell_type": "code",
   "execution_count": 2,
   "metadata": {},
   "outputs": [
    {
     "ename": "ReferenceError",
     "evalue": "digital_root is not defined",
     "output_type": "error",
     "traceback": [
      "@http://localhost:8888/kernelspecs/jskernel/kernel.js?v=20190729184659 line 53 > eval:1:1\nexecute@http://localhost:8888/kernelspecs/jskernel/kernel.js?v=20190729184659:53:17\nCodeCell.prototype.execute@http://localhost:8888/static/notebook/js/main.min.js?v=617dbb6b838f3495e90f667d4b1f2fa9:36279:40\nNotebook.prototype.execute_cell_and_select_below@http://localhost:8888/static/notebook/js/main.min.js?v=617dbb6b838f3495e90f667d4b1f2fa9:44842:18\nhandler@http://localhost:8888/static/notebook/js/main.min.js?v=617dbb6b838f3495e90f667d4b1f2fa9:48262:30\n@http://localhost:8888/static/notebook/js/main.min.js?v=617dbb6b838f3495e90f667d4b1f2fa9:48996:25\nActionHandler.prototype.call@http://localhost:8888/static/notebook/js/main.min.js?v=617dbb6b838f3495e90f667d4b1f2fa9:49098:36\nShortcutManager.prototype.call_handler@http://localhost:8888/static/notebook/js/main.min.js?v=617dbb6b838f3495e90f667d4b1f2fa9:34184:33\nKeyboardManager.prototype.handle_keydown@http://localhost:8888/static/notebook/js/main.min.js?v=617dbb6b838f3495e90f667d4b1f2fa9:49323:43\nKeyboardManager.prototype.bind_events/<@http://localhost:8888/static/notebook/js/main.min.js?v=617dbb6b838f3495e90f667d4b1f2fa9:49287:25\ndispatch@http://localhost:8888/static/notebook/js/main.min.js?v=617dbb6b838f3495e90f667d4b1f2fa9:2:41772\nadd/y.handle@http://localhost:8888/static/notebook/js/main.min.js?v=617dbb6b838f3495e90f667d4b1f2fa9:2:39791\n"
     ]
    }
   ],
   "source": [
    "digital_root(123)"
   ]
  },
  {
   "cell_type": "code",
   "execution_count": 3,
   "metadata": {},
   "outputs": [
    {
     "ename": "ReferenceError",
     "evalue": "digital_root is not defined",
     "output_type": "error",
     "traceback": [
      "@http://localhost:8888/kernelspecs/jskernel/kernel.js?v=20190729184659 line 53 > eval:1:1\nexecute@http://localhost:8888/kernelspecs/jskernel/kernel.js?v=20190729184659:53:17\nCodeCell.prototype.execute@http://localhost:8888/static/notebook/js/main.min.js?v=617dbb6b838f3495e90f667d4b1f2fa9:36279:40\nNotebook.prototype.execute_cell_and_select_below@http://localhost:8888/static/notebook/js/main.min.js?v=617dbb6b838f3495e90f667d4b1f2fa9:44842:18\nhandler@http://localhost:8888/static/notebook/js/main.min.js?v=617dbb6b838f3495e90f667d4b1f2fa9:48262:30\n@http://localhost:8888/static/notebook/js/main.min.js?v=617dbb6b838f3495e90f667d4b1f2fa9:48996:25\nActionHandler.prototype.call@http://localhost:8888/static/notebook/js/main.min.js?v=617dbb6b838f3495e90f667d4b1f2fa9:49098:36\nShortcutManager.prototype.call_handler@http://localhost:8888/static/notebook/js/main.min.js?v=617dbb6b838f3495e90f667d4b1f2fa9:34184:33\nKeyboardManager.prototype.handle_keydown@http://localhost:8888/static/notebook/js/main.min.js?v=617dbb6b838f3495e90f667d4b1f2fa9:49323:43\nKeyboardManager.prototype.bind_events/<@http://localhost:8888/static/notebook/js/main.min.js?v=617dbb6b838f3495e90f667d4b1f2fa9:49287:25\ndispatch@http://localhost:8888/static/notebook/js/main.min.js?v=617dbb6b838f3495e90f667d4b1f2fa9:2:41772\nadd/y.handle@http://localhost:8888/static/notebook/js/main.min.js?v=617dbb6b838f3495e90f667d4b1f2fa9:2:39791\n"
     ]
    }
   ],
   "source": [
    "digital_root(56789)"
   ]
  },
  {
   "cell_type": "code",
   "execution_count": null,
   "metadata": {},
   "outputs": [],
   "source": []
  }
 ],
 "metadata": {
  "kernelspec": {
   "display_name": "Javascript",
   "language": "",
   "name": "jskernel"
  },
  "language_info": {
   "file_extension": ".js",
   "mimetype": "text/javascript",
   "name": "javascript"
  }
 },
 "nbformat": 4,
 "nbformat_minor": 2
}
