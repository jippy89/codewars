{
 "cells": [
  {
   "cell_type": "markdown",
   "metadata": {},
   "source": [
    "# Square Every Digit\n",
    "[Source Question](https://www.codewars.com/kata/square-every-digit/javascript)\n",
    "\n",
    "Welcome. In this kata, you are asked to square every digit of a number.  \n",
    "For example, if we run 9119 through the function, 811181 will come out, because 92 is 81 and 12 is 1.\n",
    "\n",
    "Note: The function accepts an integer and returns an integer"
   ]
  },
  {
   "cell_type": "markdown",
   "metadata": {},
   "source": [
    "# Answer"
   ]
  },
  {
   "cell_type": "code",
   "execution_count": 2,
   "metadata": {},
   "outputs": [],
   "source": [
    "function squareDigits(num){\n",
    "  //may the code be with you\n",
    "  const stringNum = num.toString().split(\"\")\n",
    "  const result = stringNum.map( num => num * num ).join(\"\")\n",
    "  return parseInt(result)\n",
    "}"
   ]
  },
  {
   "cell_type": "code",
   "execution_count": 3,
   "metadata": {},
   "outputs": [
    {
     "ename": "ReferenceError",
     "evalue": "squareDigits is not defined",
     "output_type": "error",
     "traceback": [
      "@http://localhost:8888/kernelspecs/jskernel/kernel.js?v=20190729184659 line 53 > eval:1:1\nexecute@http://localhost:8888/kernelspecs/jskernel/kernel.js?v=20190729184659:53:17\nCodeCell.prototype.execute@http://localhost:8888/static/notebook/js/main.min.js?v=617dbb6b838f3495e90f667d4b1f2fa9:36279:40\nNotebook.prototype.execute_cell_and_select_below@http://localhost:8888/static/notebook/js/main.min.js?v=617dbb6b838f3495e90f667d4b1f2fa9:44842:18\nhandler@http://localhost:8888/static/notebook/js/main.min.js?v=617dbb6b838f3495e90f667d4b1f2fa9:48262:30\n@http://localhost:8888/static/notebook/js/main.min.js?v=617dbb6b838f3495e90f667d4b1f2fa9:48996:25\nActionHandler.prototype.call@http://localhost:8888/static/notebook/js/main.min.js?v=617dbb6b838f3495e90f667d4b1f2fa9:49098:36\nShortcutManager.prototype.call_handler@http://localhost:8888/static/notebook/js/main.min.js?v=617dbb6b838f3495e90f667d4b1f2fa9:34184:33\nKeyboardManager.prototype.handle_keydown@http://localhost:8888/static/notebook/js/main.min.js?v=617dbb6b838f3495e90f667d4b1f2fa9:49321:40\nKeyboardManager.prototype.bind_events/<@http://localhost:8888/static/notebook/js/main.min.js?v=617dbb6b838f3495e90f667d4b1f2fa9:49287:25\ndispatch@http://localhost:8888/static/notebook/js/main.min.js?v=617dbb6b838f3495e90f667d4b1f2fa9:2:41772\nadd/y.handle@http://localhost:8888/static/notebook/js/main.min.js?v=617dbb6b838f3495e90f667d4b1f2fa9:2:39791\n"
     ]
    }
   ],
   "source": [
    "squareDigits(9119)"
   ]
  },
  {
   "cell_type": "code",
   "execution_count": null,
   "metadata": {},
   "outputs": [],
   "source": []
  }
 ],
 "metadata": {
  "kernelspec": {
   "display_name": "Javascript",
   "language": "",
   "name": "jskernel"
  },
  "language_info": {
   "file_extension": ".js",
   "mimetype": "text/javascript",
   "name": "javascript"
  }
 },
 "nbformat": 4,
 "nbformat_minor": 2
}
