{
 "cells": [
  {
   "cell_type": "markdown",
   "metadata": {},
   "source": [
    "# Tribonacci Sequence\n",
    "[Question's Source](https://www.codewars.com/kata/556deca17c58da83c00002db/train/javascript)\n",
    "\n",
    "Well met with Fibonacci bigger brother, AKA Tribonacci.\n",
    "\n",
    "As the name may already reveal, it works basically like a Fibonacci, but summing the last 3 (instead of 2) numbers of the sequence to generate the next. And, worse part of it, regrettably I won't get to hear non-native Italian speakers trying to pronounce it :(\n",
    "\n",
    "So, if we are to start our Tribonacci sequence with `[1, 1, 1]` as a starting input (AKA signature), we have this sequence:\n",
    "\n",
    "    `[1, 1 ,1, 3, 5, 9, 17, 31, ...]`\n",
    "\n",
    "But what if we started with `[0, 0, 1]` as a signature? As starting with `[0, 1]` instead of `[1, 1]` basically shifts the common Fibonacci sequence by once place, you may be tempted to think that we would get the same sequence shifted by 2 places, but that is not the case and we would get:\n",
    "\n",
    "    `[0, 0, 1, 1, 2, 4, 7, 13, 24, ...]`\n",
    "\n",
    "Well, you may have guessed it by now, but to be clear: you need to create a fibonacci function that given a signature array/list, returns the first n elements - signature included of the so seeded sequence.\n",
    "\n",
    "Signature will always contain 3 numbers; n will always be a non-negative number; if `n == 0`, then return an empty array (except in C return NULL) and be ready for anything else which is not clearly specified ;)\n",
    "\n",
    "If you enjoyed this kata more advanced and generalized version of it can be found in the Xbonacci kata\n",
    "\n",
    "*[Personal thanks to Professor Jim Fowler on Coursera for his awesome classes that I really recommend to any math enthusiast and for showing me this mathematical curiosity too with his usual contagious passion :)]*\n"
   ]
  },
  {
   "cell_type": "code",
   "execution_count": 1,
   "metadata": {},
   "outputs": [
    {
     "ename": "SyntaxError",
     "evalue": "expected expression, got '}'",
     "output_type": "error",
     "traceback": [
      "execute@http://localhost:8888/kernelspecs/jskernel/kernel.js?v=20190730043102:53:17\nCodeCell.prototype.execute@http://localhost:8888/static/notebook/js/main.min.js?v=617dbb6b838f3495e90f667d4b1f2fa9:36279:40\nNotebook.prototype.execute_cell_and_select_below@http://localhost:8888/static/notebook/js/main.min.js?v=617dbb6b838f3495e90f667d4b1f2fa9:44842:18\nhandler@http://localhost:8888/static/notebook/js/main.min.js?v=617dbb6b838f3495e90f667d4b1f2fa9:48262:30\n@http://localhost:8888/static/notebook/js/main.min.js?v=617dbb6b838f3495e90f667d4b1f2fa9:48996:25\nActionHandler.prototype.call@http://localhost:8888/static/notebook/js/main.min.js?v=617dbb6b838f3495e90f667d4b1f2fa9:49098:36\nShortcutManager.prototype.call_handler@http://localhost:8888/static/notebook/js/main.min.js?v=617dbb6b838f3495e90f667d4b1f2fa9:34184:33\nKeyboardManager.prototype.handle_keydown@http://localhost:8888/static/notebook/js/main.min.js?v=617dbb6b838f3495e90f667d4b1f2fa9:49321:40\nKeyboardManager.prototype.bind_events/<@http://localhost:8888/static/notebook/js/main.min.js?v=617dbb6b838f3495e90f667d4b1f2fa9:49287:25\ndispatch@http://localhost:8888/static/notebook/js/main.min.js?v=617dbb6b838f3495e90f667d4b1f2fa9:2:41772\nadd/y.handle@http://localhost:8888/static/notebook/js/main.min.js?v=617dbb6b838f3495e90f667d4b1f2fa9:2:39791\n"
     ]
    }
   ],
   "source": [
    "function tribonacci(signature,n){\n",
    "  if (signature.length >= n) return signature.splice(0,n)\n",
    "  return tribonacci([ ...signature, signature.splice(-3).reduce( (sum, num) => sum + num ) ], n)\n",
    "}"
   ]
  },
  {
   "cell_type": "code",
   "execution_count": null,
   "metadata": {},
   "outputs": [],
   "source": []
  }
 ],
 "metadata": {
  "kernelspec": {
   "display_name": "Javascript",
   "language": "",
   "name": "jskernel"
  },
  "language_info": {
   "file_extension": ".js",
   "mimetype": "text/javascript",
   "name": "javascript"
  }
 },
 "nbformat": 4,
 "nbformat_minor": 2
}
